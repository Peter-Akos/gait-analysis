{
 "cells": [
  {
   "cell_type": "code",
   "execution_count": 34,
   "id": "076923e1",
   "metadata": {},
   "source": [
    "import os\n",
    "import pandas as pd\n",
    "import numpy as np\n",
    "import json\n",
    "import itertools\n",
    "from tqdm import tqdm\n",
    "import pickle"
   ],
   "outputs": []
  },
  {
   "cell_type": "markdown",
   "id": "29d43b0b-9486-4726-8e43-d431a7be80ae",
   "metadata": {},
   "source": [
    "### Video List"
   ]
  },
  {
   "cell_type": "code",
   "execution_count": 52,
   "id": "050cb72b-1d1b-471c-a8b9-517dcdc2a0b2",
   "metadata": {},
   "source": [
    "video_df = pd.read_csv(\"/Users/akospeter/Downloads/video-gait-v1/annotations/video_list.csv\")"
   ],
   "outputs": []
  },
  {
   "cell_type": "code",
   "execution_count": 53,
   "id": "a9c3b18a-3b61-47e3-b7e5-59c325715738",
   "metadata": {},
   "source": [
    "video_df"
   ],
   "outputs": []
  },
  {
   "cell_type": "code",
   "execution_count": 55,
   "id": "9eb3497f-a9ee-4ec6-b21f-9cb48fb02452",
   "metadata": {},
   "source": [
    "video_df.groupby('Video_File').count()"
   ],
   "outputs": []
  },
  {
   "cell_type": "code",
   "execution_count": null,
   "id": "f9c81820-b05d-4210-9b2d-3919c2efab77",
   "metadata": {},
   "source": [],
   "outputs": []
  },
  {
   "cell_type": "code",
   "execution_count": null,
   "id": "ddc85ee9-aeab-470d-bfe7-4df571f3b2f0",
   "metadata": {},
   "source": [],
   "outputs": []
  },
  {
   "cell_type": "code",
   "execution_count": null,
   "id": "062a8327-b88b-4169-b6e9-278f574452a5",
   "metadata": {},
   "source": [],
   "outputs": []
  },
  {
   "cell_type": "code",
   "execution_count": null,
   "id": "a1f5d5a3-f8e9-4f0a-b7dc-191c79e55881",
   "metadata": {},
   "source": [],
   "outputs": []
  },
  {
   "cell_type": "code",
   "execution_count": null,
   "id": "d471d58c-4625-442f-82e5-fbbd9335246a",
   "metadata": {},
   "source": [],
   "outputs": []
  },
  {
   "cell_type": "code",
   "execution_count": null,
   "id": "53a5423a-70c2-4a52-b7d5-18318d783b2e",
   "metadata": {},
   "source": [],
   "outputs": []
  },
  {
   "cell_type": "code",
   "execution_count": null,
   "id": "98892ab9-ca59-4293-b550-2f0260946792",
   "metadata": {},
   "source": [],
   "outputs": []
  },
  {
   "cell_type": "markdown",
   "id": "17c9855a-31bf-40aa-8888-73361f77fa03",
   "metadata": {},
   "source": [
    "### Surginfo"
   ]
  },
  {
   "cell_type": "code",
   "execution_count": 14,
   "id": "81e67c6a-96c0-43df-a08c-7bab796aaa55",
   "metadata": {},
   "source": [
    "surginfo_df = pd.read_csv(\"/Users/akospeter/Downloads/video-gait-v1/annotations/surgInfo.csv\")"
   ],
   "outputs": []
  },
  {
   "cell_type": "code",
   "execution_count": 15,
   "id": "75d5be86-b14e-496a-a365-3d18d81a95b5",
   "metadata": {},
   "source": [
    "surginfo_df"
   ],
   "outputs": []
  },
  {
   "cell_type": "markdown",
   "id": "5a6198a8-1383-4589-bdea-ccbed0938a92",
   "metadata": {},
   "source": [
    "### AllData"
   ]
  },
  {
   "cell_type": "code",
   "execution_count": 16,
   "id": "dc80998f-c615-44c8-9ee5-59b07dc5d804",
   "metadata": {},
   "source": [
    "alldata_df = pd.read_csv(\"/Users/akospeter/Downloads/video-gait-v1/annotations/alldata.csv\")"
   ],
   "outputs": []
  },
  {
   "cell_type": "code",
   "execution_count": 17,
   "id": "a053dae2-69c6-4585-9bf7-dce7bf60feab",
   "metadata": {},
   "source": [
    "alldata_df"
   ],
   "outputs": []
  },
  {
   "cell_type": "code",
   "execution_count": 18,
   "id": "feda284a-7c3b-4e7d-b4ac-2ef6274bc335",
   "metadata": {},
   "source": [
    "alldata_df.columns"
   ],
   "outputs": []
  },
  {
   "cell_type": "code",
   "execution_count": null,
   "id": "bcc32951-fb46-4dd9-a2df-21ee922b9945",
   "metadata": {},
   "source": [],
   "outputs": []
  },
  {
   "cell_type": "code",
   "execution_count": 19,
   "id": "0605d3ee-3e0c-40be-a922-3ed24a996b25",
   "metadata": {},
   "source": [
    "exam_ids_video = video_df['Exam_ID']\n",
    "len(exam_ids_video)"
   ],
   "outputs": []
  },
  {
   "cell_type": "code",
   "execution_count": 20,
   "id": "311f9cc8-ad6c-4fb3-9a73-30b15234ae68",
   "metadata": {},
   "source": [
    "exam_ids_alldata = alldata_df['examid']\n",
    "len(exam_ids_alldata)"
   ],
   "outputs": []
  },
  {
   "cell_type": "code",
   "execution_count": 21,
   "id": "1ff2084e-c503-4b8a-b890-9ff09fae4691",
   "metadata": {},
   "source": [
    "common_exam_ids = [curr for curr in exam_ids_video if curr in exam_ids_alldata]\n",
    "len(common_exam_ids)"
   ],
   "outputs": []
  },
  {
   "cell_type": "code",
   "execution_count": 22,
   "id": "1721368c-088b-4a7b-96a7-7a39c732bda4",
   "metadata": {},
   "source": [
    "video_id = []\n",
    "for exam_id in alldata_df['examid'].tolist():\n",
    "    video_file = video_df.loc[video_df['Exam_ID'] == exam_id, 'Video_File'].values\n",
    "    if len(video_file) > 1:\n",
    "        print(video_file)\n",
    "        video_id.append(video_file[0])\n",
    "    elif len(video_file) == 1:\n",
    "        video_id.append(video_file[0])\n",
    "    else:\n",
    "        print(f\"No video for {exam_id}\")\n",
    "        video_id.append(np.nan)"
   ],
   "outputs": []
  },
  {
   "cell_type": "code",
   "execution_count": 23,
   "id": "3776a901-c035-45de-8a68-66ae8179c532",
   "metadata": {},
   "source": [
    "len(video_id)"
   ],
   "outputs": []
  },
  {
   "cell_type": "code",
   "execution_count": 24,
   "id": "eab1867e-347b-4f52-8c7f-538b27fe8400",
   "metadata": {},
   "source": [
    "alldata_df['video_id'] = video_id"
   ],
   "outputs": []
  },
  {
   "cell_type": "code",
   "execution_count": 25,
   "id": "59d61a89-32a2-4d38-9710-3af6c988c6e6",
   "metadata": {},
   "source": [
    "alldata_df = alldata_df.dropna()"
   ],
   "outputs": []
  },
  {
   "cell_type": "code",
   "execution_count": 44,
   "id": "1f5454b1-2124-41b8-ae2f-8cfbef7fb81e",
   "metadata": {},
   "source": [
    "alldata_df"
   ],
   "outputs": []
  },
  {
   "cell_type": "code",
   "execution_count": 56,
   "id": "b25124f9-52fb-48c8-8615-f840e67425a8",
   "metadata": {},
   "source": [
    "video_id_predicted_values = alldata_df[['video_id', 'side', 'KneeFlex_maxExtension', 'speed', 'cadence', 'steplen']]"
   ],
   "outputs": []
  },
  {
   "cell_type": "code",
   "execution_count": 57,
   "id": "0c0f14c8-8346-4575-bd66-f68ecbcf0470",
   "metadata": {},
   "source": [
    "video_id_predicted_values.to_csv(\"video_id_predicted_values.csv\", index=False)"
   ],
   "outputs": []
  },
  {
   "cell_type": "code",
   "execution_count": null,
   "id": "0479457f-2f20-4630-88f3-b5fec971cea3",
   "metadata": {},
   "source": [],
   "outputs": []
  },
  {
   "cell_type": "code",
   "execution_count": 111,
   "id": "e76c7ca8-7abf-4d1f-afa8-dffea2505381",
   "metadata": {},
   "source": [
    "def convert_json2csv(video_id,json_dir):\n",
    "    resL = np.zeros((1500,75))\n",
    "    resL[:] = np.nan\n",
    "    for frame in range(1,1500):\n",
    "        videoid_str = '%s-processed' % (video_id)\n",
    "        test_image_json = '%s%s/%s_%s_keypoints.json' %\\\n",
    "            (json_dir, videoid_str, videoid_str,str(frame).zfill(12))\n",
    "\n",
    "        if not os.path.isfile(test_image_json):\n",
    "            break\n",
    "        with open(test_image_json) as data_file:  \n",
    "            data = json.load(data_file)\n",
    "        for person in data['people']:\n",
    "            keypoints = person['pose_keypoints_2d']\n",
    "            xcoords = [keypoints[i] for i in range(len(keypoints)) if i % 3 == 0]\n",
    "            counter = 0\n",
    "            if np.max(xcoords) < 320:\n",
    "                if(counter > 0):\n",
    "                    print(\"duplicate person on left half of video %s\") % video_id\n",
    "                    print(video_id)\n",
    "                counter += 1\n",
    "                resL[frame-1,:] = keypoints\n",
    "\n",
    "    #we can save space by dropping rows after the last row that isn't all nan\n",
    "    check = np.apply_along_axis(lambda x: np.any(~np.isnan(x)),1,resL)\n",
    "    for i in range(len(check)-1,-1,-1):\n",
    "        if check[i]:\n",
    "            break\n",
    "    return resL[:i+1] # resR[:i+1]"
   ],
   "outputs": []
  },
  {
   "cell_type": "code",
   "execution_count": 198,
   "id": "b929824f-2c97-4d8e-9e56-e0e173f0478d",
   "metadata": {},
   "source": [
    "res = []\n",
    "actual_video_ids = os.listdir(f\"../data/video-gait-v1/openpose/\")\n",
    "actual_video_ids = [actual_video_id.split('-')[0] for actual_video_id in actual_video_ids]\n",
    "for video_id in tqdm(actual_video_ids):\n",
    "    frames = os.listdir(f\"../data/video-gait-v1/openpose/{video_id}-processed/\")\n",
    "    for frame in frames:\n",
    "        json_path = f\"../data/video-gait-v1/openpose/{video_id}-processed/{frame}\"\n",
    "        try:\n",
    "            with open(json_path) as data_file:  \n",
    "                data = json.load(data_file)\n",
    "            for person in data['people']:\n",
    "                keypoints = person['pose_keypoints_2d']\n",
    "                xcoords = [keypoints[i] for i in range(len(keypoints)) if i % 3 == 0]\n",
    "                counter = 0\n",
    "                if np.max(xcoords) < 320:\n",
    "                    if(counter > 0):\n",
    "                        print(f\"duplicate person on left half of video {video_id}\")\n",
    "                        print(video_id)\n",
    "                    counter += 1\n",
    "                    curr_res = [video_id, frame] + keypoints\n",
    "                    res.append(curr_res)\n",
    "        except Exception as e:\n",
    "            print(f\"An unexpected error occurred with file {json_path}: {e}\")"
   ],
   "outputs": []
  },
  {
   "cell_type": "code",
   "execution_count": 201,
   "id": "66bb7d7d-a3de-4e05-8097-4768d91d2fcd",
   "metadata": {},
   "source": [
    "videos_data = pd.DataFrame(res)"
   ],
   "outputs": []
  },
  {
   "cell_type": "code",
   "execution_count": 202,
   "id": "aa8f24b0-eef8-4ded-b6bf-75bad1cae5e1",
   "metadata": {},
   "source": [
    "videos_data"
   ],
   "outputs": []
  },
  {
   "cell_type": "code",
   "execution_count": 207,
   "id": "1dbf7941-3962-4d49-a9bb-6f4411099fcc",
   "metadata": {},
   "source": [
    "videos_data.groupby(0).count()[1].describe()"
   ],
   "outputs": []
  },
  {
   "cell_type": "code",
   "execution_count": 215,
   "id": "3af055e4-3110-4ac1-928b-f48f576cabaa",
   "metadata": {},
   "source": [
    "we_have_video_ids = set(videos_data[0].tolist())\n",
    "print(len(set(we_have_video_ids)))\n",
    "all_video_ids = alldata_df['video_id'].tolist()\n",
    "print(len(all_video_ids))"
   ],
   "outputs": []
  },
  {
   "cell_type": "code",
   "execution_count": null,
   "id": "bdad19ba-e6c6-4b6d-abe4-284118988afd",
   "metadata": {},
   "source": [],
   "outputs": []
  },
  {
   "cell_type": "code",
   "execution_count": 216,
   "id": "a7b5ec20-9e7e-4163-8fbf-9f5ae606861e",
   "metadata": {},
   "source": [
    "both = [video_id for video_id in we_have_video_ids if video_id in all_video_ids]"
   ],
   "outputs": []
  },
  {
   "cell_type": "code",
   "execution_count": 217,
   "id": "ce89a4e3-2592-4ab5-8184-280530279aea",
   "metadata": {},
   "source": [
    "len(both)"
   ],
   "outputs": []
  },
  {
   "cell_type": "code",
   "execution_count": 220,
   "id": "82fb12f9-9835-4cae-9392-9987e91658a4",
   "metadata": {},
   "source": [
    "filtered_videos_data = videos_data[videos_data[0].isin(both)]"
   ],
   "outputs": []
  },
  {
   "cell_type": "code",
   "execution_count": 2,
   "id": "fb73788e-0f1e-4f4f-aa02-0b469da95e35",
   "metadata": {},
   "source": [
    "body_parts = [ \"Nose\",\"Neck\",\"RShoulder\",\"RElbow\",\"RWrist\",\"LShoulder\",\"LElbow\",\"LWrist\",\"MidHip\",\"RHip\",\"RKnee\",\"RAnkle\",\"LHip\",\"LKnee\",\"LAnkle\",\"REye\",\"LEye\",\"REar\",\"LEar\",\"LBigToe\",\"LSmallToe\",\"LHeel\",\"RBigToe\",\"RSmallToe\",\"RHeel\"]\n",
    "columns = ['video_id', 'frame'] + [f\"{body_part}_{elem}\" for body_part in body_parts for elem in ['x', 'y', 'prob']]"
   ],
   "outputs": []
  },
  {
   "cell_type": "code",
   "execution_count": 241,
   "id": "a60eb006-d951-4687-a0bf-2ab32ec66f66",
   "metadata": {},
   "source": [
    "filtered_videos_data.columns = columns"
   ],
   "outputs": []
  },
  {
   "cell_type": "code",
   "execution_count": 244,
   "id": "96d643f6-3037-4688-8198-e93710da90f4",
   "metadata": {
    "scrolled": true
   },
   "source": [
    "filtered_videos_data"
   ],
   "outputs": []
  },
  {
   "cell_type": "code",
   "execution_count": 245,
   "id": "ec39e7ef-3e30-400e-874d-160f8ccb098f",
   "metadata": {},
   "source": [
    "filtered_videos_data.to_csv(\"features.csv\", index=False)"
   ],
   "outputs": []
  },
  {
   "cell_type": "code",
   "execution_count": null,
   "id": "0a1669f2-f80d-42ba-b3b5-532e93028263",
   "metadata": {},
   "source": [],
   "outputs": []
  },
  {
   "cell_type": "code",
   "execution_count": 5,
   "id": "48c9992a-823a-405c-86aa-f462274c4209",
   "metadata": {},
   "source": [
    "filtered_videos_data = pd.read_csv(\"features.csv\")\n",
    "filtered_videos_data"
   ],
   "outputs": []
  },
  {
   "cell_type": "code",
   "execution_count": 7,
   "id": "8adb8b45-aa00-4672-8237-4c005b4da27d",
   "metadata": {},
   "source": [
    "video_sizes = filtered_videos_data.groupby(\"video_id\").count()['frame']"
   ],
   "outputs": []
  },
  {
   "cell_type": "code",
   "execution_count": 9,
   "id": "2a6dabcd-3d57-425c-b83e-fe783626f43c",
   "metadata": {},
   "source": [
    "video_sizes.describe()"
   ],
   "outputs": []
  },
  {
   "cell_type": "code",
   "execution_count": 51,
   "id": "c52a253c-52e6-495c-892f-b5cde555ede1",
   "metadata": {},
   "source": [
    "we_have_video_ids = set(filtered_videos_data['video_id'].tolist())\n",
    "print(len(set(we_have_video_ids)))\n",
    "all_video_ids = alldata_df['video_id'].tolist()\n",
    "print(len(all_video_ids))"
   ],
   "outputs": []
  },
  {
   "cell_type": "code",
   "execution_count": null,
   "id": "572c1dd5-3232-4c2f-ad21-313f96b0e538",
   "metadata": {},
   "source": [],
   "outputs": []
  },
  {
   "cell_type": "code",
   "execution_count": null,
   "id": "3f4e330e-40dc-448d-b2b0-55cd413417df",
   "metadata": {},
   "source": [],
   "outputs": []
  },
  {
   "cell_type": "code",
   "execution_count": null,
   "id": "14badf46-37ec-43c4-a889-381bb39408bf",
   "metadata": {},
   "source": [],
   "outputs": []
  },
  {
   "cell_type": "code",
   "execution_count": 29,
   "id": "260e1f52-f24d-405d-97ab-5ebe1a3240c2",
   "metadata": {},
   "source": [
    "JSON_DIR = '../data/video-gait-v1/openpose/'"
   ],
   "outputs": []
  },
  {
   "cell_type": "code",
   "execution_count": 30,
   "id": "ec7f973a-fbb0-4acc-a05a-720de731a637",
   "metadata": {},
   "source": [
    "existing_csvs = os.listdir(\"../data/processed/video_csvs/\")\n",
    "existing_csvs = [e.split('_')[0] for e in existing_csvs]"
   ],
   "outputs": []
  },
  {
   "cell_type": "code",
   "execution_count": 31,
   "id": "33c9d44b-dd5c-4119-a80f-fda47e161b76",
   "metadata": {},
   "source": [
    "video_ids = alldata_df['video_id'].tolist()"
   ],
   "outputs": []
  },
  {
   "cell_type": "code",
   "execution_count": 32,
   "id": "89f66d4a-6ee9-4ebd-aaac-3a140d944f80",
   "metadata": {},
   "source": [
    "for i,video_id in enumerate(video_ids):\n",
    "    if(i % 100 == 0):\n",
    "        print(\"%.2f percent done\" % (i*100./len(video_ids)))\n",
    "    if str(video_id) not in existing_csvs:\n",
    "        resL = convert_json2csv(video_id,JSON_DIR)\n",
    "        save_string_L = '%s/processed/video_csvs/%s.csv' % ('../data',video_id)\n",
    "        np.savetxt(save_string_L, resL, delimiter=',')"
   ],
   "outputs": []
  },
  {
   "cell_type": "markdown",
   "id": "019ad751-df5c-4736-830e-0b6741dc9c93",
   "metadata": {},
   "source": [
    "### Combine them"
   ]
  },
  {
   "cell_type": "code",
   "execution_count": 33,
   "id": "2754f08d-8afe-4bc6-9cab-708e66f4107b",
   "metadata": {},
   "source": [
    "import pandas as pd\n",
    "import pickle\n",
    "import numpy as np\n",
    "\n",
    "all_videos = {}\n",
    "for i,video_id in enumerate(video_ids):\n",
    "    if(i % 100 == 0):\n",
    "        print(\"%.2f percent done\" % (i*100./len(video_ids)))\n",
    "    file_string = '%s/processed/video_csvs/%s.csv' % ('../data',video_id)\n",
    "    try: \n",
    "        all_videos[video_id] = np.loadtxt(file_string, delimiter=',')\n",
    "    except:\n",
    "        print(\"missing %s\" % (video_id))"
   ],
   "outputs": []
  },
  {
   "cell_type": "code",
   "execution_count": 35,
   "id": "6c15680a-57d2-4146-b425-ded65906fbcd",
   "metadata": {},
   "source": [
    "with open('../data/processed/all_videos_dict.pickle', 'wb') as handle:\n",
    "    pickle.dump(all_videos, handle, protocol=pickle.HIGHEST_PROTOCOL)"
   ],
   "outputs": []
  },
  {
   "cell_type": "code",
   "execution_count": 36,
   "id": "2f6d1f9d-9ef2-4b94-a4ce-3b2040d60bf0",
   "metadata": {},
   "source": [
    "alldata_processed = alldata_df.groupby(['video_id'],as_index=False).head(1)"
   ],
   "outputs": []
  },
  {
   "cell_type": "code",
   "execution_count": 37,
   "id": "06baa8c9-9944-4840-8939-4252db1743ef",
   "metadata": {},
   "source": [
    "alldata_processed"
   ],
   "outputs": []
  },
  {
   "cell_type": "markdown",
   "id": "f3f2f83a-62ba-4295-8c66-01662ffeeff1",
   "metadata": {},
   "source": [
    "### Utils"
   ]
  },
  {
   "cell_type": "code",
   "execution_count": 148,
   "id": "4e9af420-67b6-4ede-8886-e1ac86090d5c",
   "metadata": {},
   "source": [
    "NOSE = 0\n",
    "NECK = 1\n",
    "RSHO = 2\n",
    "RELB = 3\n",
    "RWRI = 4\n",
    "LSHO = 5\n",
    "LELB = 6\n",
    "LWRI = 7\n",
    "MHIP = 8\n",
    "RHIP = 9\n",
    "RKNE = 10\n",
    "RANK = 11\n",
    "LHIP = 12\n",
    "LKNE = 13\n",
    "LANK = 14\n",
    "REYE = 15\n",
    "LEYE = 16\n",
    "REAR = 17\n",
    "LEAR = 18\n",
    "LBTO = 19\n",
    "LSTO = 20\n",
    "LHEL = 21\n",
    "RBTO = 22\n",
    "RSTO = 23\n",
    "RHEL = 24"
   ],
   "outputs": []
  },
  {
   "cell_type": "code",
   "execution_count": 158,
   "id": "c799352f-2db3-40ea-acea-9f8b65bcc8ee",
   "metadata": {},
   "source": [
    "def expand_columns(col_lst):\n",
    "    return flatten([[2*x,2*x+1] for x in col_lst])\n",
    "\n",
    "def max_pct_nan_or_zero_given_cols(A,col_lst):\n",
    "    col_indices_used = expand_columns(col_lst)\n",
    "    A = A.copy()[:,col_indices_used]\n",
    "    mask = (A==0) | (np.isnan(A))\n",
    "    return np.max(np.sum(mask,axis=0))*1.0/len(A)\n",
    "\n",
    "def drop_confidence_cols(res):\n",
    "    res = res.copy()\n",
    "    num_parts = res.shape[1]/3\n",
    "    processed_cols = [True,True,False] * int(num_parts)\n",
    "    return res[:,processed_cols]\n",
    "    \n",
    "def flatten(lst):\n",
    "    return list(itertools.chain.from_iterable(lst))"
   ],
   "outputs": []
  },
  {
   "cell_type": "code",
   "execution_count": 159,
   "id": "895b6f90-82ee-49d4-b313-5411cd97284a",
   "metadata": {},
   "source": [
    "COLS_USED = [LANK,RANK,LKNE,RKNE,LHIP,RHIP,LBTO,RBTO]"
   ],
   "outputs": []
  },
  {
   "cell_type": "markdown",
   "id": "aeabd851-eff9-4e75-b822-6f485be6daa8",
   "metadata": {},
   "source": [
    "### Filtering"
   ]
  },
  {
   "cell_type": "code",
   "execution_count": 160,
   "id": "69f47ce9-522b-4b10-8749-bb0550cec7e6",
   "metadata": {},
   "source": [
    "result = []\n",
    "vid_length = 124\n",
    "for videoid, raw_video in all_videos.items():\n",
    "    if len(raw_video.shape) == 2 and len(raw_video) >= vid_length:\n",
    "        raw_video = drop_confidence_cols(raw_video[:500,:].copy())\n",
    "        #for each column, compute the % of values missing\n",
    "        #then, take the max of those missing values\n",
    "        pct_missing = max_pct_nan_or_zero_given_cols(raw_video,COLS_USED)\n",
    "        \n",
    "        n_segments = 0\n",
    "        start_idx = 0\n",
    "        for i in range(start_idx,500-vid_length,31):\n",
    "            raw_video_chunk = raw_video[i:i+vid_length,:]\n",
    "            pct_missing_chunk =\\\n",
    "                max_pct_nan_or_zero_given_cols(raw_video_chunk,COLS_USED)\n",
    "            if pct_missing_chunk <= 0.25 and len(raw_video_chunk) == vid_length:\n",
    "                n_segments += 1\n",
    "        \n",
    "        result.append([videoid,pct_missing,n_segments])\n",
    "result = np.array(result)"
   ],
   "outputs": []
  },
  {
   "cell_type": "code",
   "execution_count": 175,
   "id": "aa2ec3cd-a48e-4caf-a932-a1bda63de0ae",
   "metadata": {},
   "source": [
    "df = pd.DataFrame(np.array(result),columns=['video_id','pct_missing','n_segments'])\n",
    "df['pct_missing'] = df['pct_missing'].astype(float)\n",
    "df = df[(df['pct_missing'] <= 0.25)]\n",
    "df = df.merge(right=alldata_processed[['video_id','Patient_ID']],on=['video_id'],how='inner')"
   ],
   "outputs": []
  },
  {
   "cell_type": "code",
   "execution_count": 176,
   "id": "0eb366ab-d597-492a-9c10-666397a5ec08",
   "metadata": {},
   "source": [
    "df"
   ],
   "outputs": []
  },
  {
   "cell_type": "code",
   "execution_count": 181,
   "id": "d2b14c1f-c456-40e5-b524-9f3a21317460",
   "metadata": {},
   "source": [
    "curr = all_videos['16397602']"
   ],
   "outputs": []
  },
  {
   "cell_type": "code",
   "execution_count": 183,
   "id": "d1729875-07fc-4a62-a4ff-cf0368b9f6f4",
   "metadata": {},
   "source": [
    "curr.shape"
   ],
   "outputs": []
  },
  {
   "cell_type": "code",
   "execution_count": 41,
   "id": "ab98e638-f963-408d-9fcb-086ff5066287",
   "metadata": {},
   "source": [
    "raw_asda = all_videos['10312701']"
   ],
   "outputs": []
  },
  {
   "cell_type": "code",
   "execution_count": 43,
   "id": "1c32e68c-deb2-472d-a8a1-1501a1bbe07a",
   "metadata": {},
   "source": [
    "raw_asda.shape"
   ],
   "outputs": []
  },
  {
   "cell_type": "code",
   "execution_count": null,
   "id": "ac09bedd-7f13-46b0-8e5f-51e350dd3c0c",
   "metadata": {},
   "source": [],
   "outputs": []
  },
  {
   "cell_type": "code",
   "execution_count": null,
   "id": "faf1ead1-6cb0-4ad4-8b9d-c81352db62d0",
   "metadata": {},
   "source": [],
   "outputs": []
  },
  {
   "cell_type": "code",
   "execution_count": 6,
   "id": "f93c108e-9dae-4e4d-9770-9ff4099beb0f",
   "metadata": {},
   "source": [
    "import pickle"
   ],
   "outputs": []
  },
  {
   "cell_type": "code",
   "execution_count": 7,
   "id": "8a6f8059-f7f2-40cc-b008-8b03906720e9",
   "metadata": {},
   "source": [
    "X_FILENAME = \"../data/X_100.pkl\""
   ],
   "outputs": []
  },
  {
   "cell_type": "code",
   "execution_count": 8,
   "id": "04d04937-633f-4de9-a862-8475ddc47503",
   "metadata": {},
   "source": [
    "with open(X_FILENAME, 'rb') as file:\n",
    "    X = pickle.load(file)"
   ],
   "outputs": []
  },
  {
   "cell_type": "code",
   "execution_count": null,
   "id": "577e8bec-f00c-498c-b588-3627a4a8aad5",
   "metadata": {},
   "source": [
    "max_val =\n",
    "for video_id, X_data in X:\n",
    "    "
   ],
   "outputs": []
  }
 ],
 "metadata": {
  "kernelspec": {
   "display_name": "Python 3 (ipykernel)",
   "language": "python",
   "name": "python3"
  },
  "language_info": {
   "codemirror_mode": {
    "name": "ipython",
    "version": 3
   },
   "file_extension": ".py",
   "mimetype": "text/x-python",
   "name": "python",
   "nbconvert_exporter": "python",
   "pygments_lexer": "ipython3",
   "version": "3.9.6"
  }
 },
 "nbformat": 4,
 "nbformat_minor": 5
}
