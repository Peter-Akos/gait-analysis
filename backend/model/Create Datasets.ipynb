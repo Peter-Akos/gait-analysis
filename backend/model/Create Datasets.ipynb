{
 "cells": [
  {
   "cell_type": "code",
   "execution_count": 1,
   "id": "10e59db7-0854-4cc8-a3c6-dd54387f3779",
   "metadata": {},
   "outputs": [],
   "source": [
    "import pandas as pd\n",
    "from tqdm import tqdm\n",
    "import numpy as np\n",
    "import random\n",
    "import pickle"
   ]
  },
  {
   "cell_type": "code",
   "execution_count": 2,
   "id": "2d4681d4-aead-4b83-85bf-bf6b5df45084",
   "metadata": {},
   "outputs": [],
   "source": [
    "df = pd.read_csv(\"features.csv\")"
   ]
  },
  {
   "cell_type": "code",
   "execution_count": 3,
   "id": "4e41868b-1129-449c-9739-ae13f0ed1d77",
   "metadata": {},
   "outputs": [],
   "source": [
    "df"
   ]
  },
  {
   "cell_type": "code",
   "execution_count": 4,
   "id": "22c5e403-5fca-4a85-b632-b5f898009895",
   "metadata": {},
   "outputs": [],
   "source": [
    "body_parts = [ \"Nose\",\"Neck\",\"RShoulder\",\"RElbow\",\"RWrist\",\"LShoulder\",\"LElbow\",\"LWrist\",\"MidHip\",\"RHip\",\"RKnee\",\"RAnkle\",\"LHip\",\"LKnee\",\"LAnkle\",\"REye\",\"LEye\",\"REar\",\"LEar\",\"LBigToe\",\"LSmallToe\",\"LHeel\",\"RBigToe\",\"RSmallToe\",\"RHeel\"]\n",
    "all_features = ['video_id', 'frame'] + [f\"{body_part}_{elem}\" for body_part in body_parts for elem in ['x', 'y', 'prob']]"
   ]
  },
  {
   "cell_type": "markdown",
   "id": "aa0f1caa-8d12-4ead-a291-06214cefe118",
   "metadata": {},
   "source": [
    "### Original Dataset"
   ]
  },
  {
   "cell_type": "code",
   "execution_count": 5,
   "id": "3745b00a-9694-412c-8399-2cd35490369d",
   "metadata": {},
   "outputs": [],
   "source": [
    "used_body_parts = [\"LAnkle\", \"RAnkle\", \"LKnee\", \"RKnee\", \"LHip\", \"RHip\", \"LBigToe\", \"RBigToe\"]\n",
    "used_features = [f\"{body_part}_{elem}\" for body_part in used_body_parts for elem in ['x', 'y']]"
   ]
  },
  {
   "cell_type": "code",
   "execution_count": 6,
   "id": "cd186beb-dd3c-4a86-982c-0ccb0ca5ba36",
   "metadata": {},
   "outputs": [],
   "source": [
    "df_subset = df[['video_id', 'frame'] + used_features]\n",
    "df_subset"
   ]
  },
  {
   "cell_type": "code",
   "execution_count": 7,
   "id": "09197515-b987-4d79-aa93-bc79f02cd966",
   "metadata": {},
   "outputs": [],
   "source": [
    "video_lengths = df_subset.groupby(\"video_id\").count()['frame']"
   ]
  },
  {
   "cell_type": "code",
   "execution_count": 8,
   "id": "fe612e83-8e10-41ba-9ef6-eb485de98f78",
   "metadata": {},
   "outputs": [],
   "source": [
    "video_lengths_filtered = video_lengths[video_lengths >= 500]"
   ]
  },
  {
   "cell_type": "code",
   "execution_count": 9,
   "id": "d29da5cf-403b-4ab7-9d6b-0c61886f7044",
   "metadata": {},
   "outputs": [],
   "source": [
    "filtered_video_ids = video_lengths_filtered.index.tolist()"
   ]
  },
  {
   "cell_type": "code",
   "execution_count": 10,
   "id": "df3ad080-44e8-44b8-b577-3f2635e58a57",
   "metadata": {},
   "outputs": [],
   "source": [
    "filtered_df_subset = df_subset[df_subset['video_id'].isin(filtered_video_ids)]\n",
    "filtered_df_subset"
   ]
  },
  {
   "cell_type": "code",
   "execution_count": 89,
   "id": "19bcdb13-b9a8-4d1e-b9d5-5a70966d673d",
   "metadata": {},
   "outputs": [],
   "source": [
    "filtered_df_subset.to_csv(\"original_500.csv\", index=False)"
   ]
  },
  {
   "cell_type": "code",
   "execution_count": 11,
   "id": "7e921de4-711e-48a8-b817-47d9a8a84191",
   "metadata": {},
   "outputs": [],
   "source": [
    "df = filtered_df_subset"
   ]
  },
  {
   "cell_type": "code",
   "execution_count": 12,
   "id": "f7743628-71f2-43d6-a373-8620250c5a0f",
   "metadata": {},
   "outputs": [],
   "source": [
    "df.loc[:, \"frame_nr\"] = df.loc[:, \"frame\"].apply(lambda x: int(x.split(\"_\")[1]))\n",
    "df"
   ]
  },
  {
   "cell_type": "code",
   "execution_count": 17,
   "id": "14ab3b32-0507-43d1-af1e-45311538d463",
   "metadata": {},
   "outputs": [],
   "source": [
    "video_ids = list(set(df['video_id'].tolist()))\n",
    "len(video_ids)"
   ]
  },
  {
   "cell_type": "code",
   "execution_count": 45,
   "id": "63e0cab1-5d9e-4554-b934-7d57ba843bf3",
   "metadata": {},
   "outputs": [],
   "source": [
    "video_X = []\n",
    "SHIFT_BY = 100\n",
    "for video_id in tqdm(video_ids):\n",
    "    curr_df = df[df['video_id'] == video_id].sort_values(by='frame_nr')\n",
    "    nr_frames = len(curr_df)\n",
    "    for i in range(0, nr_frames-500, SHIFT_BY):\n",
    "        curr_chunk = curr_df.iloc[i:i+500, :]\n",
    "        x = curr_chunk[used_features].to_numpy()\n",
    "        if len(x) != 500:\n",
    "            print(video_id)\n",
    "        video_X.append([str(video_id), x])"
   ]
  },
  {
   "cell_type": "code",
   "execution_count": 46,
   "id": "5d639015-6527-47d9-a20f-fd355c2ae0fc",
   "metadata": {},
   "outputs": [],
   "source": [
    "len(video_X)"
   ]
  },
  {
   "cell_type": "code",
   "execution_count": 47,
   "id": "456b4165-5894-4363-a6b7-5e57ec5e9e65",
   "metadata": {},
   "outputs": [],
   "source": [
    "with open(f\"../data/X_{SHIFT_BY}.pkl\", 'wb') as file:\n",
    "    pickle.dump(video_X, file)"
   ]
  },
  {
   "cell_type": "code",
   "execution_count": null,
   "id": "3f9c5be2-e48d-4ff3-a2ed-f5e6365ea353",
   "metadata": {},
   "outputs": [],
   "source": []
  },
  {
   "cell_type": "raw",
   "id": "c7e86159-7764-40a5-bba1-52607f417d97",
   "metadata": {},
   "source": []
  },
  {
   "cell_type": "code",
   "execution_count": null,
   "id": "bddabce9-9ed4-4b38-b8fa-561af6a52bf3",
   "metadata": {},
   "outputs": [],
   "source": []
  },
  {
   "cell_type": "code",
   "execution_count": null,
   "id": "68288a2c-10ca-435c-bceb-2c74d5818c53",
   "metadata": {},
   "outputs": [],
   "source": []
  },
  {
   "cell_type": "code",
   "execution_count": null,
   "id": "39f5b80a-4192-4eb0-8a6e-9d9b4bb555d4",
   "metadata": {},
   "outputs": [],
   "source": []
  },
  {
   "cell_type": "markdown",
   "id": "260889c8-84a2-4821-9050-b8f54256b46e",
   "metadata": {},
   "source": [
    "### Match predicted values to features"
   ]
  },
  {
   "cell_type": "code",
   "execution_count": 258,
   "id": "87c8e63b-6992-426c-a95a-e4104d01bd3f",
   "metadata": {},
   "outputs": [],
   "source": [
    "video_id_predicted_values = pd.read_csv(\"video_id_predicted_values.csv\")\n",
    "# video_id_predicted_values['video_id'] = pd.to_numeric(video_id_predicted_values['video_id'], downcast='signed', errors='coerce')"
   ]
  },
  {
   "cell_type": "code",
   "execution_count": 291,
   "id": "9d2c4af4-bb08-4054-8cfe-ee02cdf80b5e",
   "metadata": {},
   "outputs": [],
   "source": [
    "filtered_predicted_values = video_id_predicted_values[video_id_predicted_values['video_id'].isin(video_ids)]\n",
    "filtered_predicted_values"
   ]
  },
  {
   "cell_type": "code",
   "execution_count": 206,
   "id": "57b3c829-1f82-495a-ba11-2aaf0d4aeaab",
   "metadata": {},
   "outputs": [],
   "source": [
    "common_video_ids_float = filtered_predicted_values.groupby('video_id').count().index.tolist()"
   ]
  },
  {
   "cell_type": "code",
   "execution_count": 213,
   "id": "5e353cdb-0c20-4eb7-a511-baf011e608d9",
   "metadata": {},
   "outputs": [],
   "source": [
    "common_video_ids_str = [str(int(v_id)) for v_id in common_video_ids_float]"
   ]
  },
  {
   "cell_type": "code",
   "execution_count": 217,
   "id": "cc80ee8e-6e0c-43b8-802d-e4f293a7a8b4",
   "metadata": {},
   "outputs": [],
   "source": [
    "video_ids = common_video_ids_str"
   ]
  },
  {
   "cell_type": "code",
   "execution_count": 223,
   "id": "ae8380c3-2892-4f4b-8eb0-f7e51368e71c",
   "metadata": {},
   "outputs": [],
   "source": [
    "random.shuffle(video_ids)\n",
    "\n",
    "# Calculate the split sizes\n",
    "total_videos = len(video_ids)\n",
    "train_size = int(0.8 * total_videos)\n",
    "val_size = int(0.1 * total_videos)\n",
    "test_size = total_videos - train_size - val_size  # Ensuring all videos are included\n",
    "\n",
    "# Split the list\n",
    "train_videos = video_ids[:train_size]\n",
    "val_videos = video_ids[train_size:train_size + val_size]\n",
    "test_videos = video_ids[train_size + val_size:]\n",
    "\n",
    "# Print the splits\n",
    "print(f'Total videos: {total_videos}')\n",
    "print(f'Train videos {len(train_videos)}')\n",
    "print(f'Validation videos {len(val_videos)}')\n",
    "print(f'Test videos {len(test_videos)}')"
   ]
  },
  {
   "cell_type": "code",
   "execution_count": 224,
   "id": "33193880-414e-4c27-bf86-919c0a0648b5",
   "metadata": {},
   "outputs": [],
   "source": [
    "split = {\"train\": train_videos,\n",
    "        \"validation\": val_videos,\n",
    "        \"test\": test_videos}"
   ]
  },
  {
   "cell_type": "code",
   "execution_count": 225,
   "id": "bd9f6e90-1f51-4d4d-9eb7-06607dddfb02",
   "metadata": {},
   "outputs": [],
   "source": [
    "with open(f\"../data/split.pkl\", 'wb') as file:\n",
    "    pickle.dump(split, file)"
   ]
  },
  {
   "cell_type": "code",
   "execution_count": 261,
   "id": "4eaad795-472d-49c4-8e7d-1340909e94af",
   "metadata": {},
   "outputs": [],
   "source": [
    "video_ids = [str(v_id) for v_id in video_ids]"
   ]
  },
  {
   "cell_type": "code",
   "execution_count": 295,
   "id": "281a9955-0ce4-4e72-b0fa-6bfaf3aa07b3",
   "metadata": {},
   "outputs": [],
   "source": [
    "filtered_predicted_values.to_csv(\"y.csv\", index=False)"
   ]
  },
  {
   "cell_type": "code",
   "execution_count": 267,
   "id": "a09d2199-1911-47d7-aeb7-23c5cf98824b",
   "metadata": {},
   "outputs": [],
   "source": [
    "filtered_predicted_values"
   ]
  },
  {
   "cell_type": "code",
   "execution_count": 271,
   "id": "c2184730-930b-4a14-906e-8d18414ba606",
   "metadata": {},
   "outputs": [],
   "source": [
    "filtered_predicted_values[filtered_predicted_values[\"video_id\"] == '10312701']['speed'].tolist()"
   ]
  },
  {
   "cell_type": "code",
   "execution_count": 273,
   "id": "4cc96a46-0374-4d5e-be3c-272b70644000",
   "metadata": {},
   "outputs": [],
   "source": [
    "filt = filtered_predicted_values.groupby('video_id').count()"
   ]
  },
  {
   "cell_type": "code",
   "execution_count": 284,
   "id": "1c99848c-47b1-4be7-806e-2182e3dccddb",
   "metadata": {},
   "outputs": [],
   "source": [
    "good_video_ids = filt[filt['side'] == 2].index.tolist()"
   ]
  },
  {
   "cell_type": "code",
   "execution_count": 285,
   "id": "354ecbf6-8cd4-40c6-b519-1ed2de91a316",
   "metadata": {},
   "outputs": [],
   "source": [
    "len(filtered_predicted_values)"
   ]
  },
  {
   "cell_type": "code",
   "execution_count": 292,
   "id": "260923c9-dd15-4e7d-a0b4-9d8bbe9d0ca8",
   "metadata": {},
   "outputs": [],
   "source": [
    "filtered_predicted_values = filtered_predicted_values[filtered_predicted_values['video_id'].isin(good_video_ids)]"
   ]
  },
  {
   "cell_type": "code",
   "execution_count": 293,
   "id": "a053f8da-f021-4d0e-84f5-fedec4cbb335",
   "metadata": {},
   "outputs": [],
   "source": [
    "len(filtered_predicted_values)"
   ]
  },
  {
   "cell_type": "code",
   "execution_count": 294,
   "id": "9be4f42e-9d5f-4074-99ba-450eeb9b44cf",
   "metadata": {},
   "outputs": [],
   "source": [
    "filtered_predicted_values"
   ]
  },
  {
   "cell_type": "code",
   "execution_count": null,
   "id": "05c04aa9-5435-4481-9c66-0b74352c4020",
   "metadata": {},
   "outputs": [],
   "source": []
  },
  {
   "cell_type": "code",
   "execution_count": 3,
   "id": "49a08e94-4961-477a-bf55-56fabd513d39",
   "metadata": {},
   "outputs": [],
   "source": [
    "df = pd.read_csv(\"../data/y.csv\")"
   ]
  },
  {
   "cell_type": "code",
   "execution_count": 4,
   "id": "119145a4-56c8-45bf-b03d-fa013b6bb7c6",
   "metadata": {},
   "outputs": [
    {
     "data": {
      "text/html": [
       "<div>\n",
       "<style scoped>\n",
       "    .dataframe tbody tr th:only-of-type {\n",
       "        vertical-align: middle;\n",
       "    }\n",
       "\n",
       "    .dataframe tbody tr th {\n",
       "        vertical-align: top;\n",
       "    }\n",
       "\n",
       "    .dataframe thead th {\n",
       "        text-align: right;\n",
       "    }\n",
       "</style>\n",
       "<table border=\"1\" class=\"dataframe\">\n",
       "  <thead>\n",
       "    <tr style=\"text-align: right;\">\n",
       "      <th></th>\n",
       "      <th>video_id</th>\n",
       "      <th>side</th>\n",
       "      <th>KneeFlex_maxExtension</th>\n",
       "      <th>speed</th>\n",
       "      <th>cadence</th>\n",
       "      <th>steplen</th>\n",
       "    </tr>\n",
       "  </thead>\n",
       "  <tbody>\n",
       "    <tr>\n",
       "      <th>0</th>\n",
       "      <td>10312701</td>\n",
       "      <td>R</td>\n",
       "      <td>23.962333</td>\n",
       "      <td>0.915005</td>\n",
       "      <td>0.994667</td>\n",
       "      <td>0.394269</td>\n",
       "    </tr>\n",
       "    <tr>\n",
       "      <th>1</th>\n",
       "      <td>10312701</td>\n",
       "      <td>L</td>\n",
       "      <td>34.529000</td>\n",
       "      <td>0.897019</td>\n",
       "      <td>0.959000</td>\n",
       "      <td>0.512130</td>\n",
       "    </tr>\n",
       "    <tr>\n",
       "      <th>2</th>\n",
       "      <td>10772801</td>\n",
       "      <td>R</td>\n",
       "      <td>43.406333</td>\n",
       "      <td>0.115560</td>\n",
       "      <td>0.839667</td>\n",
       "      <td>-0.069110</td>\n",
       "    </tr>\n",
       "    <tr>\n",
       "      <th>3</th>\n",
       "      <td>10772801</td>\n",
       "      <td>L</td>\n",
       "      <td>47.368000</td>\n",
       "      <td>0.139068</td>\n",
       "      <td>0.826333</td>\n",
       "      <td>0.206712</td>\n",
       "    </tr>\n",
       "    <tr>\n",
       "      <th>4</th>\n",
       "      <td>11221801</td>\n",
       "      <td>R</td>\n",
       "      <td>9.374398</td>\n",
       "      <td>1.033810</td>\n",
       "      <td>1.024544</td>\n",
       "      <td>0.542080</td>\n",
       "    </tr>\n",
       "    <tr>\n",
       "      <th>...</th>\n",
       "      <td>...</td>\n",
       "      <td>...</td>\n",
       "      <td>...</td>\n",
       "      <td>...</td>\n",
       "      <td>...</td>\n",
       "      <td>...</td>\n",
       "    </tr>\n",
       "    <tr>\n",
       "      <th>5713</th>\n",
       "      <td>16828501</td>\n",
       "      <td>L</td>\n",
       "      <td>7.087655</td>\n",
       "      <td>0.299313</td>\n",
       "      <td>0.625468</td>\n",
       "      <td>0.208293</td>\n",
       "    </tr>\n",
       "    <tr>\n",
       "      <th>5714</th>\n",
       "      <td>18371401</td>\n",
       "      <td>R</td>\n",
       "      <td>9.921491</td>\n",
       "      <td>1.351350</td>\n",
       "      <td>1.090158</td>\n",
       "      <td>0.602977</td>\n",
       "    </tr>\n",
       "    <tr>\n",
       "      <th>5715</th>\n",
       "      <td>18371401</td>\n",
       "      <td>L</td>\n",
       "      <td>9.046386</td>\n",
       "      <td>1.343939</td>\n",
       "      <td>1.101355</td>\n",
       "      <td>0.637646</td>\n",
       "    </tr>\n",
       "    <tr>\n",
       "      <th>5716</th>\n",
       "      <td>17286301</td>\n",
       "      <td>R</td>\n",
       "      <td>7.365353</td>\n",
       "      <td>1.143967</td>\n",
       "      <td>1.159751</td>\n",
       "      <td>0.499088</td>\n",
       "    </tr>\n",
       "    <tr>\n",
       "      <th>5717</th>\n",
       "      <td>17286301</td>\n",
       "      <td>L</td>\n",
       "      <td>-1.253680</td>\n",
       "      <td>1.149197</td>\n",
       "      <td>1.144202</td>\n",
       "      <td>0.511784</td>\n",
       "    </tr>\n",
       "  </tbody>\n",
       "</table>\n",
       "<p>5718 rows × 6 columns</p>\n",
       "</div>"
      ],
      "text/plain": [
       "      video_id side  KneeFlex_maxExtension     speed   cadence   steplen\n",
       "0     10312701    R              23.962333  0.915005  0.994667  0.394269\n",
       "1     10312701    L              34.529000  0.897019  0.959000  0.512130\n",
       "2     10772801    R              43.406333  0.115560  0.839667 -0.069110\n",
       "3     10772801    L              47.368000  0.139068  0.826333  0.206712\n",
       "4     11221801    R               9.374398  1.033810  1.024544  0.542080\n",
       "...        ...  ...                    ...       ...       ...       ...\n",
       "5713  16828501    L               7.087655  0.299313  0.625468  0.208293\n",
       "5714  18371401    R               9.921491  1.351350  1.090158  0.602977\n",
       "5715  18371401    L               9.046386  1.343939  1.101355  0.637646\n",
       "5716  17286301    R               7.365353  1.143967  1.159751  0.499088\n",
       "5717  17286301    L              -1.253680  1.149197  1.144202  0.511784\n",
       "\n",
       "[5718 rows x 6 columns]"
      ]
     },
     "execution_count": 4,
     "metadata": {},
     "output_type": "execute_result"
    }
   ],
   "source": [
    "df"
   ]
  },
  {
   "cell_type": "code",
   "execution_count": null,
   "id": "73dd1f56-dc13-4819-a730-4a64c0c9c43d",
   "metadata": {},
   "outputs": [],
   "source": []
  }
 ],
 "metadata": {
  "kernelspec": {
   "display_name": "Python 3 (ipykernel)",
   "language": "python",
   "name": "python3"
  },
  "language_info": {
   "codemirror_mode": {
    "name": "ipython",
    "version": 3
   },
   "file_extension": ".py",
   "mimetype": "text/x-python",
   "name": "python",
   "nbconvert_exporter": "python",
   "pygments_lexer": "ipython3",
   "version": "3.9.6"
  }
 },
 "nbformat": 4,
 "nbformat_minor": 5
}
